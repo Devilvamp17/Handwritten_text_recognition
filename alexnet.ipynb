{
 "cells": [
  {
   "cell_type": "code",
   "execution_count": 1,
   "metadata": {},
   "outputs": [],
   "source": [
    "import tensorflow as tf\n",
    "from tensorflow import keras\n",
    "from keras import Sequential,layers,datasets"
   ]
  },
  {
   "cell_type": "code",
   "execution_count": null,
   "metadata": {},
   "outputs": [],
   "source": [
    "# data preprocessing\n",
    "(x_train,y_train),(x_test,y_test)="
   ]
  },
  {
   "cell_type": "code",
   "execution_count": null,
   "metadata": {},
   "outputs": [],
   "source": [
    "# alexnet\n",
    "model=Sequential(\n",
    "    [\n",
    "        layers.Input(shape=(227,227,1)),\n",
    "        layers.Conv2D(96,kernel_size=(11,11),strides=4,activation='relu'),\n",
    "        layers.MaxPooling2D(pool_size=(3,3),strides=2),\n",
    "        layers.Conv2D(256, kernel_size=(5,5), activation='relu',padding='same'),\n",
    "        layers.MaxPooling2D(pool_size=(3,3),strides=2),\n",
    "        layers.Conv2D(384,kernel_size=(3,3), activation='relu',padding='same'),\n",
    "        layers.Conv2D(384,kernel_size=(3,3), activation='relu',padding='same'),\n",
    "        layers.Conv2D(256,kernel_size=(3,3), activation='relu',padding='same'),\n",
    "        layers.MaxPooling2D(pool_size=(3,3),strides=2),\n",
    "        layers.Flatten(),\n",
    "        layers.Dense(4096,activation='relu'),\n",
    "        layers.Dense(4096,activation='relu'),\n",
    "        layers.Dense(10,activation='softmax'),\n",
    "    ]\n",
    ")"
   ]
  },
  {
   "cell_type": "code",
   "execution_count": null,
   "metadata": {},
   "outputs": [],
   "source": []
  }
 ],
 "metadata": {
  "kernelspec": {
   "display_name": ".venv",
   "language": "python",
   "name": "python3"
  },
  "language_info": {
   "codemirror_mode": {
    "name": "ipython",
    "version": 3
   },
   "file_extension": ".py",
   "mimetype": "text/x-python",
   "name": "python",
   "nbconvert_exporter": "python",
   "pygments_lexer": "ipython3",
   "version": "3.11.9"
  }
 },
 "nbformat": 4,
 "nbformat_minor": 2
}
